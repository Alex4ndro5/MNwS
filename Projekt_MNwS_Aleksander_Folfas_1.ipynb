{
 "cells": [
  {
   "attachments": {},
   "cell_type": "markdown",
   "metadata": {},
   "source": [
    "Projekt MNwS - Aleksander Folfas 411052"
   ]
  },
  {
   "cell_type": "code",
   "execution_count": 15,
   "metadata": {},
   "outputs": [],
   "source": [
    "import numpy as np\n",
    "import pandas as pd\n",
    "import matplotlib as mpl\n",
    "import scipy.stats as stats"
   ]
  },
  {
   "attachments": {},
   "cell_type": "markdown",
   "metadata": {},
   "source": [
    "Zadanie 1"
   ]
  },
  {
   "attachments": {},
   "cell_type": "markdown",
   "metadata": {},
   "source": [
    "Za pomocą odpowiednich symulacji porównać moce testu Shapiro-Wilka, testu Kołmogorowa i testu\n",
    "𝜒2 (z hipotezą główną, że cecha ma rozkład normalny) w przypadku, gdy dane pochodzą z rozkładu\n",
    "𝑡-Studenta lub innej klasy rozkładów symetrycznych (uwaga: żeby wyniki były porównywalne trzeba\n",
    "pamiętać o standaryzacji danych). Uzyskane wyniki należy przedstawić na odpowiednich wykresach\n",
    "ilustrujących moce testów z uwzględnieniem:\n",
    "- liczby danych,\n",
    "- liczby stopni swobody generowanego rozkładu t-Studenta lub innych parametrów wybranego\n",
    "rozkładu."
   ]
  },
  {
   "cell_type": "code",
   "execution_count": 21,
   "metadata": {},
   "outputs": [
    {
     "data": {
      "text/plain": [
       "1.3672069226227447e-55"
      ]
     },
     "execution_count": 21,
     "metadata": {},
     "output_type": "execute_result"
    }
   ],
   "source": [
    "df = range(1, 11)\n",
    "n = [10, 50, 100, 1000]\n",
    "table = pd.DataFrame()\n",
    "\n",
    "for ele in n:\n",
    "    for ele in df:\n",
    "        data = np.random.standard_t(df, n)\n",
    "        p_SW = stats.shapiro(data)\n",
    "        p_Ko = stats.kstest(data, 'norm')\n",
    "        p_Chi2 = stats.chisquare(data, np.random.normal(0,1,n))\n",
    "        table\n",
    "\n",
    "\n"
   ]
  }
 ],
 "metadata": {
  "kernelspec": {
   "display_name": "Python 3",
   "language": "python",
   "name": "python3"
  },
  "language_info": {
   "codemirror_mode": {
    "name": "ipython",
    "version": 3
   },
   "file_extension": ".py",
   "mimetype": "text/x-python",
   "name": "python",
   "nbconvert_exporter": "python",
   "pygments_lexer": "ipython3",
   "version": "3.9.12"
  },
  "orig_nbformat": 4
 },
 "nbformat": 4,
 "nbformat_minor": 2
}
