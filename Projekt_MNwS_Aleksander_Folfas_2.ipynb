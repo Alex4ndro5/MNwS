{
 "cells": [
  {
   "attachments": {},
   "cell_type": "markdown",
   "metadata": {},
   "source": [
    "Projekt MNwS - Aleksander Folfas 411052"
   ]
  },
  {
   "cell_type": "code",
   "execution_count": 1,
   "metadata": {},
   "outputs": [],
   "source": [
    "import numpy as np\n",
    "import pandas as pd\n",
    "import matplotlib as mpl\n",
    "import scipy.stats as stats"
   ]
  },
  {
   "attachments": {},
   "cell_type": "markdown",
   "metadata": {},
   "source": [
    "Zadanie 2"
   ]
  },
  {
   "attachments": {},
   "cell_type": "markdown",
   "metadata": {},
   "source": [
    "Za pomocą odpowiednich symulacji zbadać odsetek odrzuceń prawdziwej hipotezy głównej (tzn. błąd I rodzaju) w teście Kołmogorowa i teście 𝜒2 w przypadku weryfikacji zgodności z rozkładem 𝜒2 o różnych stopniach swobody, tzn. generować dane pochodzące z rozkładu 𝜒2 o 𝑘 stopniach swobody i \n",
    "weryfikować hipotezę, że dane mają rozkład 𝜒2 o 𝑘 st. swobody. Należy porównać wyniki klasycznego sposobu testowania i testowania z wykorzystaniem PIT (probability integral transform).\n",
    "\n",
    "Uzyskane wyniki należy przedstawić na odpowiednich wykresach ilustrujących moce testów z uwzględnieniem:\n",
    "- liczby danych,\n",
    "- liczby stopni swobody generowanego rozkładu."
   ]
  },
  {
   "cell_type": "code",
   "execution_count": 6,
   "metadata": {},
   "outputs": [],
   "source": [
    "def generate_chi_squared_data(k, n):\n",
    "    return np.random.chisquare(k, n)\n",
    "\n",
    "def perform_chi_squared_test(data, k, alpha):\n",
    "    observed_frequencies, _ = np.histogram(data, bins='auto')\n",
    "    expected_frequencies = np.array([len(data) * chisquare.pmf(i, k) for i in range(len(observed_frequencies))])\n",
    "    statistic, p_value = chisquare(observed_frequencies, expected_frequencies, ddof=1)\n",
    "    reject_null_hypothesis = p_value < alpha\n",
    "    return reject_null_hypothesis, p_value\n",
    "\n",
    "def perform_kolmogorov_smirnov_test(data, k, alpha):\n",
    "    _, p_value = kstest(data, lambda x: chisquare.cdf(x, k))\n",
    "    reject_null_hypothesis = p_value < alpha\n",
    "    return reject_null_hypothesis, p_value\n",
    "\n",
    "def perform_pit_test(data, k, alpha):\n",
    "    transformed_data = chisquare.cdf(data, k)\n",
    "    _, p_value = kstest(transformed_data, 'uniform')\n",
    "    reject_null_hypothesis = p_value < alpha\n",
    "    return reject_null_hypothesis, p_value"
   ]
  }
 ],
 "metadata": {
  "kernelspec": {
   "display_name": "Python 3",
   "language": "python",
   "name": "python3"
  },
  "language_info": {
   "codemirror_mode": {
    "name": "ipython",
    "version": 3
   },
   "file_extension": ".py",
   "mimetype": "text/x-python",
   "name": "python",
   "nbconvert_exporter": "python",
   "pygments_lexer": "ipython3",
   "version": "3.9.13"
  },
  "orig_nbformat": 4
 },
 "nbformat": 4,
 "nbformat_minor": 2
}
