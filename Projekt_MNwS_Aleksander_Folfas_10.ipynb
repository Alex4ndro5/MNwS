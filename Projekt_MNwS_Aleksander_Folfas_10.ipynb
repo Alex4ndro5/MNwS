{
 "cells": [
  {
   "attachments": {},
   "cell_type": "markdown",
   "metadata": {},
   "source": [
    "Projekt MNwS - Aleksander Folfas 411052"
   ]
  },
  {
   "cell_type": "code",
   "execution_count": 3,
   "metadata": {},
   "outputs": [],
   "source": [
    "import numpy as np\n",
    "from scipy.stats import kstest\n",
    "import matplotlib.pyplot as plt"
   ]
  },
  {
   "attachments": {},
   "cell_type": "markdown",
   "metadata": {},
   "source": [
    "Zadanie 10\n",
    "\n"
   ]
  },
  {
   "attachments": {},
   "cell_type": "markdown",
   "metadata": {},
   "source": [
    "Za pomocą odpowiednich symulacji zbadać wpływ liczby klas (na które dzielone są dane) odsetek\n",
    "odrzuceń prawdziwej hipotezy głównej (tzn. błąd I rodzaju) w teście 𝜒\n",
    "2 w przypadku weryfikacji\n",
    "zgodności z rozkładem 𝑡-Studenta o różnych stopniach swobody, tzn. generować dane pochodzące z\n",
    "rozkładu 𝑡-Studenta o 𝑘 stopniach swobody i weryfikować hipotezę, że dane mają rozkład 𝑡-Studenta\n",
    "o 𝑘 st. swobody. Uzyskane wyniki należy przedstawić na odpowiednich wykresach ilustrujących\n",
    "rozmiary testów z uwzględnieniem:\n",
    "- liczby danych,\n",
    "- liczby klas,\n",
    "- liczby stopni swobody generowanego rozkładu"
   ]
  }
 ],
 "metadata": {
  "kernelspec": {
   "display_name": "Python 3",
   "language": "python",
   "name": "python3"
  },
  "language_info": {
   "codemirror_mode": {
    "name": "ipython",
    "version": 3
   },
   "file_extension": ".py",
   "mimetype": "text/x-python",
   "name": "python",
   "nbconvert_exporter": "python",
   "pygments_lexer": "ipython3",
   "version": "3.10.11"
  },
  "orig_nbformat": 4
 },
 "nbformat": 4,
 "nbformat_minor": 2
}
