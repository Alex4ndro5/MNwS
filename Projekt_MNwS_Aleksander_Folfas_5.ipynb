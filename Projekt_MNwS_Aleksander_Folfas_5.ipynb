{
 "cells": [
  {
   "attachments": {},
   "cell_type": "markdown",
   "metadata": {},
   "source": [
    "Projekt MNwS - Aleksander Folfas 411052"
   ]
  },
  {
   "cell_type": "code",
   "execution_count": 1,
   "metadata": {},
   "outputs": [],
   "source": [
    "import numpy as np\n",
    "from scipy.stats import t, kstest, chisquare, norm\n",
    "import matplotlib.pyplot as plt"
   ]
  },
  {
   "attachments": {},
   "cell_type": "markdown",
   "metadata": {},
   "source": [
    "Zadanie 5"
   ]
  },
  {
   "attachments": {},
   "cell_type": "markdown",
   "metadata": {},
   "source": [
    "Za pomocą odpowiednich symulacji zbadać odsetek odrzuceń prawdziwej hipotezy głównej (tzn. błąd\n",
    "I rodzaju) w teście Kołmogorowa i teście 𝜒\n",
    "2 w przypadku weryfikacji zgodności z rozkładem 𝑡-\n",
    "Studenta o różnych stopniach swobody, tzn. generować dane pochodzące z rozkładu 𝑡-Studenta o 𝑘\n",
    "stopniach swobody i weryfikować hipotezę, że dane mają rozkład 𝑡-Studenta o 𝑘 st. swobody. Należy\n",
    "porównać wyniki klasycznego sposobu testowania i testowania z wykorzystaniem PIT (probability\n",
    "integral transform). Uzyskane wyniki należy przedstawić na odpowiednich wykresach ilustrujących\n",
    "rozmiary testów z uwzględnieniem:\n",
    "- liczby danych,\n",
    "- liczby stopni swobody generowanego rozkładu."
   ]
  },
  {
   "cell_type": "code",
   "execution_count": 2,
   "metadata": {},
   "outputs": [
    {
     "ename": "ValueError",
     "evalue": "For each axis slice, the sum of the observed frequencies must agree with the sum of the expected frequencies to a relative tolerance of 1e-08, but the percent differences are:\n2.1698038016501267",
     "output_type": "error",
     "traceback": [
      "\u001b[1;31m---------------------------------------------------------------------------\u001b[0m",
      "\u001b[1;31mValueError\u001b[0m                                Traceback (most recent call last)",
      "Cell \u001b[1;32mIn[2], line 41\u001b[0m\n\u001b[0;32m     38\u001b[0m data \u001b[39m=\u001b[39m generate_t_data(n, k)\n\u001b[0;32m     40\u001b[0m \u001b[39m# testowanie bez wykorzystania PIT\u001b[39;00m\n\u001b[1;32m---> 41\u001b[0m d, p_value, chi2_stat, chi2_p_value \u001b[39m=\u001b[39m perform_tests(data, k)\n\u001b[0;32m     43\u001b[0m \u001b[39m# testowanie z wykorzystaniem PIT\u001b[39;00m\n\u001b[0;32m     44\u001b[0m pit_d, pit_p_value, pit_chi2_stat, pit_chi2_p_value \u001b[39m=\u001b[39m perform_pit_test(data, k)\n",
      "Cell \u001b[1;32mIn[2], line 12\u001b[0m, in \u001b[0;36mperform_tests\u001b[1;34m(data, k)\u001b[0m\n\u001b[0;32m     10\u001b[0m hist, bins \u001b[39m=\u001b[39m np\u001b[39m.\u001b[39mhistogram(data, bins\u001b[39m=\u001b[39m\u001b[39m20\u001b[39m)\n\u001b[0;32m     11\u001b[0m expected_freq \u001b[39m=\u001b[39m t\u001b[39m.\u001b[39mpdf((bins[:\u001b[39m-\u001b[39m\u001b[39m1\u001b[39m]\u001b[39m+\u001b[39mbins[\u001b[39m1\u001b[39m:])\u001b[39m/\u001b[39m\u001b[39m2\u001b[39m, k)\u001b[39m*\u001b[39mnp\u001b[39m.\u001b[39msum(hist)\n\u001b[1;32m---> 12\u001b[0m chi2_stat, chi2_p_value \u001b[39m=\u001b[39m chisquare(hist, expected_freq)\n\u001b[0;32m     14\u001b[0m \u001b[39mreturn\u001b[39;00m d, p_value, chi2_stat, chi2_p_value\n",
      "File \u001b[1;32m~\\AppData\\Local\\Packages\\PythonSoftwareFoundation.Python.3.10_qbz5n2kfra8p0\\LocalCache\\local-packages\\Python310\\site-packages\\scipy\\stats\\_stats_py.py:7553\u001b[0m, in \u001b[0;36mchisquare\u001b[1;34m(f_obs, f_exp, ddof, axis)\u001b[0m\n\u001b[0;32m   7428\u001b[0m \u001b[39mdef\u001b[39;00m \u001b[39mchisquare\u001b[39m(f_obs, f_exp\u001b[39m=\u001b[39m\u001b[39mNone\u001b[39;00m, ddof\u001b[39m=\u001b[39m\u001b[39m0\u001b[39m, axis\u001b[39m=\u001b[39m\u001b[39m0\u001b[39m):\n\u001b[0;32m   7429\u001b[0m \u001b[39m    \u001b[39m\u001b[39m\"\"\"Calculate a one-way chi-square test.\u001b[39;00m\n\u001b[0;32m   7430\u001b[0m \n\u001b[0;32m   7431\u001b[0m \u001b[39m    The chi-square test tests the null hypothesis that the categorical data\u001b[39;00m\n\u001b[1;32m   (...)\u001b[0m\n\u001b[0;32m   7551\u001b[0m \n\u001b[0;32m   7552\u001b[0m \u001b[39m    \"\"\"\u001b[39;00m\n\u001b[1;32m-> 7553\u001b[0m     \u001b[39mreturn\u001b[39;00m power_divergence(f_obs, f_exp\u001b[39m=\u001b[39;49mf_exp, ddof\u001b[39m=\u001b[39;49mddof, axis\u001b[39m=\u001b[39;49maxis,\n\u001b[0;32m   7554\u001b[0m                             lambda_\u001b[39m=\u001b[39;49m\u001b[39m\"\u001b[39;49m\u001b[39mpearson\u001b[39;49m\u001b[39m\"\u001b[39;49m)\n",
      "File \u001b[1;32m~\\AppData\\Local\\Packages\\PythonSoftwareFoundation.Python.3.10_qbz5n2kfra8p0\\LocalCache\\local-packages\\Python310\\site-packages\\scipy\\stats\\_stats_py.py:7394\u001b[0m, in \u001b[0;36mpower_divergence\u001b[1;34m(f_obs, f_exp, ddof, axis, lambda_)\u001b[0m\n\u001b[0;32m   7388\u001b[0m     \u001b[39mif\u001b[39;00m diff_gt_tol:\n\u001b[0;32m   7389\u001b[0m         msg \u001b[39m=\u001b[39m (\u001b[39mf\u001b[39m\u001b[39m\"\u001b[39m\u001b[39mFor each axis slice, the sum of the observed \u001b[39m\u001b[39m\"\u001b[39m\n\u001b[0;32m   7390\u001b[0m                \u001b[39mf\u001b[39m\u001b[39m\"\u001b[39m\u001b[39mfrequencies must agree with the sum of the \u001b[39m\u001b[39m\"\u001b[39m\n\u001b[0;32m   7391\u001b[0m                \u001b[39mf\u001b[39m\u001b[39m\"\u001b[39m\u001b[39mexpected frequencies to a relative tolerance \u001b[39m\u001b[39m\"\u001b[39m\n\u001b[0;32m   7392\u001b[0m                \u001b[39mf\u001b[39m\u001b[39m\"\u001b[39m\u001b[39mof \u001b[39m\u001b[39m{\u001b[39;00mrtol\u001b[39m}\u001b[39;00m\u001b[39m, but the percent differences are:\u001b[39m\u001b[39m\\n\u001b[39;00m\u001b[39m\"\u001b[39m\n\u001b[0;32m   7393\u001b[0m                \u001b[39mf\u001b[39m\u001b[39m\"\u001b[39m\u001b[39m{\u001b[39;00mrelative_diff\u001b[39m}\u001b[39;00m\u001b[39m\"\u001b[39m)\n\u001b[1;32m-> 7394\u001b[0m         \u001b[39mraise\u001b[39;00m \u001b[39mValueError\u001b[39;00m(msg)\n\u001b[0;32m   7396\u001b[0m \u001b[39melse\u001b[39;00m:\n\u001b[0;32m   7397\u001b[0m     \u001b[39m# Ignore 'invalid' errors so the edge case of a data set with length 0\u001b[39;00m\n\u001b[0;32m   7398\u001b[0m     \u001b[39m# is handled without spurious warnings.\u001b[39;00m\n\u001b[0;32m   7399\u001b[0m     \u001b[39mwith\u001b[39;00m np\u001b[39m.\u001b[39merrstate(invalid\u001b[39m=\u001b[39m\u001b[39m'\u001b[39m\u001b[39mignore\u001b[39m\u001b[39m'\u001b[39m):\n",
      "\u001b[1;31mValueError\u001b[0m: For each axis slice, the sum of the observed frequencies must agree with the sum of the expected frequencies to a relative tolerance of 1e-08, but the percent differences are:\n2.1698038016501267"
     ]
    }
   ],
   "source": [
    "# funkcja generująca dane pochodzące z rozkładu t-Studenta\n",
    "def generate_t_data(n, k):\n",
    "    return t.rvs(k, size=n)\n",
    "\n",
    "# funkcja wykonująca test Kołmogorowa i test 𝜒^2\n",
    "def perform_tests(data, k):\n",
    "    # test Kołmogorowa\n",
    "    d, p_value = kstest(data, 't', args=(k,))\n",
    "    # test 𝜒^2\n",
    "    hist, bins = np.histogram(data, bins=20)\n",
    "    expected_freq = t.pdf((bins[:-1]+bins[1:])/2, k)*np.sum(hist)\n",
    "    chi2_stat, chi2_p_value = chisquare(hist, expected_freq)\n",
    "\n",
    "    return d, p_value, chi2_stat, chi2_p_value\n",
    "\n",
    "# funkcja wykonująca testowanie z wykorzystaniem PIT\n",
    "def perform_pit_test(data, k):\n",
    "    # transformacja danych za pomocą PIT\n",
    "    norm_data = norm.ppf((np.arange(len(data))+1)/(len(data)+1))\n",
    "    # test Kołmogorowa\n",
    "    d, p_value = kstest(norm_data, 't', args=(k,))\n",
    "    # test 𝜒^2\n",
    "    hist, bins = np.histogram(norm_data, bins=20)\n",
    "    expected_freq = t.pdf((bins[:-1]+bins[1:])/2, k)*np.sum(hist)\n",
    "    chi2_stat, chi2_p_value = chisquare(hist, expected_freq)\n",
    "\n",
    "    return d, p_value, chi2_stat, chi2_p_value\n",
    "\n",
    "# liczba danych\n",
    "n_values = [100, 500, 1000]\n",
    "# liczba stopni swobody\n",
    "k_values = [5, 10, 20]\n",
    "\n",
    "# wykonanie testów dla różnych kombinacji n i k\n",
    "for n in n_values:\n",
    "    for k in k_values:\n",
    "        # generowanie danych z rozkładu t-Studenta\n",
    "        data = generate_t_data(n, k)\n",
    "\n",
    "        # testowanie bez wykorzystania PIT\n",
    "        d, p_value, chi2_stat, chi2_p_value = perform_tests(data, k)\n",
    "\n",
    "        # testowanie z wykorzystaniem PIT\n",
    "        pit_d, pit_p_value, pit_chi2_stat, pit_chi2_p_value = perform_pit_test(data, k)\n",
    "\n",
    "        # wykres przedstawiający wyniki testu Kołmogorowa\n",
    "        plt.figure()\n",
    "        plt.hist(data, bins=20, density=True, alpha=0.5, label='Data')\n",
    "        plt.plot(np.sort(data), t.pdf(np.sort(data), k), label='t-Student PDF')\n",
    "        plt.legend()\n",
    "        plt.title(f'n={n}, k={k}, 𝜒^2={chi2_stat:.3f}, 𝜒^2_p={chi2_p_value:.3f}, PIT_𝜒^2={pit_chi2_stat:.3f}, PIT_𝜒^2_p={pit_chi2_p_value:.3f}')\n",
    "        plt.xlabel('Value')\n",
    "        plt.ylabel('Density')\n",
    "        plt.show()"
   ]
  }
 ],
 "metadata": {
  "kernelspec": {
   "display_name": "Python 3",
   "language": "python",
   "name": "python3"
  },
  "language_info": {
   "codemirror_mode": {
    "name": "ipython",
    "version": 3
   },
   "file_extension": ".py",
   "mimetype": "text/x-python",
   "name": "python",
   "nbconvert_exporter": "python",
   "pygments_lexer": "ipython3",
   "version": "3.10.11"
  },
  "orig_nbformat": 4
 },
 "nbformat": 4,
 "nbformat_minor": 2
}
